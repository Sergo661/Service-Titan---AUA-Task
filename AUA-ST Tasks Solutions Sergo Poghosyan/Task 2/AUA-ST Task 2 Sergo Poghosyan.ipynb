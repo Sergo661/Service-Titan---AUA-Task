{
 "cells": [
  {
   "cell_type": "markdown",
   "id": "ac844b49",
   "metadata": {
    "pycharm": {
     "name": "#%% md\n"
    }
   },
   "source": [
    "# <div align=\"center\">AUA-ST Task 2 Sergo Poghosyan<div align=\"center\">   "
   ]
  },
  {
   "cell_type": "markdown",
   "id": "438a57fe",
   "metadata": {
    "pycharm": {
     "name": "#%% md\n"
    }
   },
   "source": [
    "### Importing necessary libraries "
   ]
  },
  {
   "cell_type": "code",
   "execution_count": 1,
   "id": "a440b2bd",
   "metadata": {
    "pycharm": {
     "name": "#%%\n"
    }
   },
   "outputs": [],
   "source": [
    "import pandas as pd\n",
    "import time\n",
    "from sklearn.feature_extraction.text import TfidfVectorizer\n",
    "from sklearn.linear_model import SGDClassifier\n",
    "from sklearn.metrics import f1_score\n",
    "from sklearn.model_selection import cross_val_score"
   ]
  },
  {
   "cell_type": "markdown",
   "id": "b9d629fc",
   "metadata": {
    "pycharm": {
     "name": "#%% md\n"
    }
   },
   "source": [
    "### Loading necessary files and converting them into data frames"
   ]
  },
  {
   "cell_type": "code",
   "execution_count": 2,
   "id": "1d8074b5",
   "metadata": {
    "pycharm": {
     "name": "#%%\n"
    }
   },
   "outputs": [],
   "source": [
    "train_df = pd.read_csv('train.csv')\n",
    "validation_df = pd.read_csv('validation.csv')\n",
    "test_df = pd.read_csv('test.csv')\n",
    "clusters_df = pd.read_csv('dialogsum_clustered.csv')"
   ]
  },
  {
   "cell_type": "markdown",
   "id": "c3fe07f6",
   "metadata": {
    "pycharm": {
     "name": "#%% md\n"
    }
   },
   "source": [
    "### Making sure we don't have any missing values"
   ]
  },
  {
   "cell_type": "code",
   "execution_count": 3,
   "id": "c86ea2d0",
   "metadata": {
    "pycharm": {
     "name": "#%%\n"
    }
   },
   "outputs": [
    {
     "data": {
      "text/plain": [
       "id          0\n",
       "dialogue    0\n",
       "summary     0\n",
       "topic       0\n",
       "dtype: int64"
      ]
     },
     "execution_count": 3,
     "metadata": {},
     "output_type": "execute_result"
    }
   ],
   "source": [
    "test_df.isnull().sum()\n",
    "#train_df.isnull().sum()\n",
    "#validation_df.isnull().sum()\n",
    "#clusters_df.isnull().sum()"
   ]
  },
  {
   "cell_type": "markdown",
   "id": "6a7a7c91",
   "metadata": {
    "pycharm": {
     "name": "#%% md\n"
    }
   },
   "source": [
    "### Merging train, test and validation with clusters"
   ]
  },
  {
   "cell_type": "code",
   "execution_count": 4,
   "id": "5fd28fec",
   "metadata": {
    "pycharm": {
     "name": "#%%\n"
    }
   },
   "outputs": [],
   "source": [
    "train_df = train_df.merge(clusters_df, on='id', how='left')\n",
    "validation_df = validation_df.merge(clusters_df, on='id', how='left')\n",
    "test_df = test_df.merge(clusters_df, on='id', how='left')"
   ]
  },
  {
   "cell_type": "markdown",
   "id": "328be7ef",
   "metadata": {
    "pycharm": {
     "name": "#%% md\n"
    }
   },
   "source": [
    "### Making sure we use only the first ones in test set"
   ]
  },
  {
   "cell_type": "code",
   "execution_count": 5,
   "id": "584ee639",
   "metadata": {
    "pycharm": {
     "name": "#%%\n"
    }
   },
   "outputs": [],
   "source": [
    "test_df = test_df[test_df['id'].str.endswith('_1')]"
   ]
  },
  {
   "cell_type": "markdown",
   "id": "48b64b98",
   "metadata": {
    "pycharm": {
     "name": "#%% md\n"
    }
   },
   "source": [
    "### Feature extraction using TF-IDF with bigrams"
   ]
  },
  {
   "cell_type": "code",
   "execution_count": 6,
   "id": "5cf98389",
   "metadata": {
    "pycharm": {
     "name": "#%%\n"
    }
   },
   "outputs": [],
   "source": [
    "vectorizer = TfidfVectorizer(max_features=5000, ngram_range=(1, 2))\n",
    "X_train = vectorizer.fit_transform(train_df['dialogue'] + \" \" + train_df['summary'])\n",
    "y_train = train_df['cluster']\n",
    "\n",
    "X_validation = vectorizer.transform(validation_df['dialogue'] + \" \" + validation_df['summary'])\n",
    "y_validation = validation_df['cluster']\n",
    "\n",
    "X_test = vectorizer.transform(test_df['dialogue'] + \" \" + test_df['summary'])\n",
    "y_test = test_df['cluster']"
   ]
  },
  {
   "cell_type": "markdown",
   "id": "d7a628e9",
   "metadata": {
    "pycharm": {
     "name": "#%% md\n"
    }
   },
   "source": [
    "### SGD classifier with adjusted regularization and cross-validation"
   ]
  },
  {
   "cell_type": "code",
   "execution_count": 7,
   "id": "b7acf1e5",
   "metadata": {
    "pycharm": {
     "name": "#%%\n"
    }
   },
   "outputs": [
    {
     "name": "stdout",
     "output_type": "stream",
     "text": [
      "Cross-validation time: 15.30 seconds\n",
      "Cross-validated F1 Scores: [0.36348475 0.35399354 0.37385002 0.36417958 0.37136691]\n",
      "Mean Cross-validated F1 Score: 0.3653749597326086\n",
      "\n",
      "Model training time: 4.45 seconds\n",
      "\n",
      "Evaluation on validation set time: 0.00 seconds\n",
      "Weighted Average F1 Score on Validation Set for SGD Classifier: 0.3726\n",
      "\n",
      "Evaluation on test set time: 0.00 seconds\n",
      "Weighted Average F1 Score on Test Set for SGD Classifier: 0.3956\n"
     ]
    }
   ],
   "source": [
    "model = SGDClassifier(loss='log', class_weight='balanced', random_state=42, max_iter=1000, tol=1e-4, alpha=1e-5)\n",
    "\n",
    "start_time = time.time()\n",
    "cv_scores = cross_val_score(model, X_train, y_train, cv=5, scoring='f1_weighted')\n",
    "print(f'Cross-validation time: {time.time() - start_time:.2f} seconds')\n",
    "print(f'Cross-validated F1 Scores: {cv_scores}')\n",
    "print(f'Mean Cross-validated F1 Score: {cv_scores.mean()}\\n')\n",
    "\n",
    "start_time = time.time()\n",
    "model.fit(X_train, y_train)\n",
    "print(f'Model training time: {time.time() - start_time:.2f} seconds\\n')\n",
    "\n",
    "start_time = time.time()\n",
    "y_val_pred = model.predict(X_validation)\n",
    "val_weighted_f1 = f1_score(y_validation, y_val_pred, average='weighted')\n",
    "print(f'Evaluation on validation set time: {time.time() - start_time:.2f} seconds')\n",
    "print(f'Weighted Average F1 Score on Validation Set for SGD Classifier: {val_weighted_f1:.4f}\\n')\n",
    "\n",
    "start_time = time.time()\n",
    "y_test_pred = model.predict(X_test)\n",
    "test_weighted_f1 = f1_score(y_test, y_test_pred, average='weighted')\n",
    "print(f'Evaluation on test set time: {time.time() - start_time:.2f} seconds')\n",
    "print(f'Weighted Average F1 Score on Test Set for SGD Classifier: {test_weighted_f1:.4f}')"
   ]
  }
 ],
 "metadata": {
  "kernelspec": {
   "display_name": "Python 3 (ipykernel)",
   "language": "python",
   "name": "python3"
  },
  "language_info": {
   "codemirror_mode": {
    "name": "ipython",
    "version": 3
   },
   "file_extension": ".py",
   "mimetype": "text/x-python",
   "name": "python",
   "nbconvert_exporter": "python",
   "pygments_lexer": "ipython3",
   "version": "3.9.13"
  }
 },
 "nbformat": 4,
 "nbformat_minor": 5
}